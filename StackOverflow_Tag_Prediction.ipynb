{
  "nbformat": 4,
  "nbformat_minor": 0,
  "metadata": {
    "colab": {
      "name": "StackOverflow_Tag_Prediction.ipynb",
      "provenance": [],
      "mount_file_id": "19r0yyH7WKCGPlV0ixW6dh7NMmO27QwZi",
      "authorship_tag": "ABX9TyOmq3ONoODmFti0IHVoM0XX",
      "include_colab_link": true
    },
    "kernelspec": {
      "display_name": "Python 3",
      "name": "python3"
    },
    "language_info": {
      "name": "python"
    },
    "accelerator": "GPU"
  },
  "cells": [
    {
      "cell_type": "markdown",
      "metadata": {
        "id": "view-in-github",
        "colab_type": "text"
      },
      "source": [
        "<a href=\"https://colab.research.google.com/github/naveen8801/Stackoverflow-Tag-Prediction/blob/main/StackOverflow_Tag_Prediction.ipynb\" target=\"_parent\"><img src=\"https://colab.research.google.com/assets/colab-badge.svg\" alt=\"Open In Colab\"/></a>"
      ]
    },
    {
      "cell_type": "code",
      "metadata": {
        "colab": {
          "base_uri": "https://localhost:8080/"
        },
        "id": "XOTWCgqCNz3a",
        "outputId": "7224b802-be33-4b77-9ceb-0c4cb746f225"
      },
      "source": [
        "#Imports\n",
        "import pandas as pd\n",
        "import numpy as np\n",
        "import matplotlib.pyplot as plt\n",
        "import nltk\n",
        "from nltk.stem import WordNetLemmatizer \n",
        "import re\n",
        "from bs4 import BeautifulSoup\n",
        "from nltk.corpus import stopwords\n",
        "from sklearn.feature_extraction.text import TfidfVectorizer\n",
        "from sklearn.preprocessing import MultiLabelBinarizer\n",
        "from sklearn.multiclass import OneVsRestClassifier\n",
        "from sklearn.linear_model import LogisticRegression ,SGDClassifier\n",
        "from sklearn.naive_bayes import MultinomialNB\n",
        "from sklearn.metrics import hamming_loss\n",
        "from sklearn.svm import LinearSVC\n",
        "import scipy as sc\n",
        "nltk.download(\"stopwords\")\n",
        "nltk.download('wordnet')"
      ],
      "execution_count": 35,
      "outputs": [
        {
          "output_type": "stream",
          "text": [
            "[nltk_data] Downloading package stopwords to /root/nltk_data...\n",
            "[nltk_data]   Package stopwords is already up-to-date!\n",
            "[nltk_data] Downloading package wordnet to /root/nltk_data...\n",
            "[nltk_data]   Package wordnet is already up-to-date!\n"
          ],
          "name": "stdout"
        },
        {
          "output_type": "execute_result",
          "data": {
            "text/plain": [
              "True"
            ]
          },
          "metadata": {
            "tags": []
          },
          "execution_count": 35
        }
      ]
    },
    {
      "cell_type": "code",
      "metadata": {
        "id": "QRFYZ3hQOGwH"
      },
      "source": [
        "df_ques = pd.read_csv('/content/drive/MyDrive/Dataset/StackOverflow/Questions.csv',encoding=\"ISO-8859-1\");\n",
        "df_tags = pd.read_csv('/content/drive/MyDrive/Dataset/StackOverflow/Tags.csv',encoding=\"ISO-8859-1\")"
      ],
      "execution_count": 36,
      "outputs": []
    },
    {
      "cell_type": "code",
      "metadata": {
        "colab": {
          "base_uri": "https://localhost:8080/",
          "height": 667
        },
        "id": "a3a7k_g-O_2Q",
        "outputId": "69876bdb-e460-4e4c-cb24-e5d3ae8b6811"
      },
      "source": [
        "df_ques.info()\n",
        "df_ques"
      ],
      "execution_count": 37,
      "outputs": [
        {
          "output_type": "stream",
          "text": [
            "<class 'pandas.core.frame.DataFrame'>\n",
            "RangeIndex: 1264216 entries, 0 to 1264215\n",
            "Data columns (total 7 columns):\n",
            " #   Column        Non-Null Count    Dtype  \n",
            "---  ------        --------------    -----  \n",
            " 0   Id            1264216 non-null  int64  \n",
            " 1   OwnerUserId   1249762 non-null  float64\n",
            " 2   CreationDate  1264216 non-null  object \n",
            " 3   ClosedDate    55959 non-null    object \n",
            " 4   Score         1264216 non-null  int64  \n",
            " 5   Title         1264216 non-null  object \n",
            " 6   Body          1264216 non-null  object \n",
            "dtypes: float64(1), int64(2), object(4)\n",
            "memory usage: 67.5+ MB\n"
          ],
          "name": "stdout"
        },
        {
          "output_type": "execute_result",
          "data": {
            "text/html": [
              "<div>\n",
              "<style scoped>\n",
              "    .dataframe tbody tr th:only-of-type {\n",
              "        vertical-align: middle;\n",
              "    }\n",
              "\n",
              "    .dataframe tbody tr th {\n",
              "        vertical-align: top;\n",
              "    }\n",
              "\n",
              "    .dataframe thead th {\n",
              "        text-align: right;\n",
              "    }\n",
              "</style>\n",
              "<table border=\"1\" class=\"dataframe\">\n",
              "  <thead>\n",
              "    <tr style=\"text-align: right;\">\n",
              "      <th></th>\n",
              "      <th>Id</th>\n",
              "      <th>OwnerUserId</th>\n",
              "      <th>CreationDate</th>\n",
              "      <th>ClosedDate</th>\n",
              "      <th>Score</th>\n",
              "      <th>Title</th>\n",
              "      <th>Body</th>\n",
              "    </tr>\n",
              "  </thead>\n",
              "  <tbody>\n",
              "    <tr>\n",
              "      <th>0</th>\n",
              "      <td>80</td>\n",
              "      <td>26.0</td>\n",
              "      <td>2008-08-01T13:57:07Z</td>\n",
              "      <td>NaN</td>\n",
              "      <td>26</td>\n",
              "      <td>SQLStatement.execute() - multiple queries in o...</td>\n",
              "      <td>&lt;p&gt;I've written a database generation script i...</td>\n",
              "    </tr>\n",
              "    <tr>\n",
              "      <th>1</th>\n",
              "      <td>90</td>\n",
              "      <td>58.0</td>\n",
              "      <td>2008-08-01T14:41:24Z</td>\n",
              "      <td>2012-12-26T03:45:49Z</td>\n",
              "      <td>144</td>\n",
              "      <td>Good branching and merging tutorials for Torto...</td>\n",
              "      <td>&lt;p&gt;Are there any really good tutorials explain...</td>\n",
              "    </tr>\n",
              "    <tr>\n",
              "      <th>2</th>\n",
              "      <td>120</td>\n",
              "      <td>83.0</td>\n",
              "      <td>2008-08-01T15:50:08Z</td>\n",
              "      <td>NaN</td>\n",
              "      <td>21</td>\n",
              "      <td>ASP.NET Site Maps</td>\n",
              "      <td>&lt;p&gt;Has anyone got experience creating &lt;strong&gt;...</td>\n",
              "    </tr>\n",
              "    <tr>\n",
              "      <th>3</th>\n",
              "      <td>180</td>\n",
              "      <td>2089740.0</td>\n",
              "      <td>2008-08-01T18:42:19Z</td>\n",
              "      <td>NaN</td>\n",
              "      <td>53</td>\n",
              "      <td>Function for creating color wheels</td>\n",
              "      <td>&lt;p&gt;This is something I've pseudo-solved many t...</td>\n",
              "    </tr>\n",
              "    <tr>\n",
              "      <th>4</th>\n",
              "      <td>260</td>\n",
              "      <td>91.0</td>\n",
              "      <td>2008-08-01T23:22:08Z</td>\n",
              "      <td>NaN</td>\n",
              "      <td>49</td>\n",
              "      <td>Adding scripting functionality to .NET applica...</td>\n",
              "      <td>&lt;p&gt;I have a little game written in C#. It uses...</td>\n",
              "    </tr>\n",
              "    <tr>\n",
              "      <th>...</th>\n",
              "      <td>...</td>\n",
              "      <td>...</td>\n",
              "      <td>...</td>\n",
              "      <td>...</td>\n",
              "      <td>...</td>\n",
              "      <td>...</td>\n",
              "      <td>...</td>\n",
              "    </tr>\n",
              "    <tr>\n",
              "      <th>1264211</th>\n",
              "      <td>40143210</td>\n",
              "      <td>5610777.0</td>\n",
              "      <td>2016-10-19T23:38:01Z</td>\n",
              "      <td>NaN</td>\n",
              "      <td>0</td>\n",
              "      <td>URL routing in PHP (MVC)</td>\n",
              "      <td>&lt;p&gt;I am building a custom MVC project and I ha...</td>\n",
              "    </tr>\n",
              "    <tr>\n",
              "      <th>1264212</th>\n",
              "      <td>40143300</td>\n",
              "      <td>3791161.0</td>\n",
              "      <td>2016-10-19T23:48:09Z</td>\n",
              "      <td>NaN</td>\n",
              "      <td>0</td>\n",
              "      <td>Bigquery.Jobs.Insert - Resumable Upload?</td>\n",
              "      <td>&lt;p&gt;The API docs show that you should be able t...</td>\n",
              "    </tr>\n",
              "    <tr>\n",
              "      <th>1264213</th>\n",
              "      <td>40143340</td>\n",
              "      <td>7028647.0</td>\n",
              "      <td>2016-10-19T23:52:50Z</td>\n",
              "      <td>NaN</td>\n",
              "      <td>1</td>\n",
              "      <td>Obfuscating code in android studio</td>\n",
              "      <td>&lt;p&gt;Under minifyEnabled I changed from false to...</td>\n",
              "    </tr>\n",
              "    <tr>\n",
              "      <th>1264214</th>\n",
              "      <td>40143360</td>\n",
              "      <td>871677.0</td>\n",
              "      <td>2016-10-19T23:55:24Z</td>\n",
              "      <td>NaN</td>\n",
              "      <td>0</td>\n",
              "      <td>How to fire function after v-model change?</td>\n",
              "      <td>&lt;p&gt;I have input which I use to filter my array...</td>\n",
              "    </tr>\n",
              "    <tr>\n",
              "      <th>1264215</th>\n",
              "      <td>40143380</td>\n",
              "      <td>6823982.0</td>\n",
              "      <td>2016-10-19T23:57:31Z</td>\n",
              "      <td>NaN</td>\n",
              "      <td>0</td>\n",
              "      <td>npm run mocha test - files being cached</td>\n",
              "      <td>&lt;p&gt;I'm running a mocha test and I noticed my c...</td>\n",
              "    </tr>\n",
              "  </tbody>\n",
              "</table>\n",
              "<p>1264216 rows × 7 columns</p>\n",
              "</div>"
            ],
            "text/plain": [
              "               Id  ...                                               Body\n",
              "0              80  ...  <p>I've written a database generation script i...\n",
              "1              90  ...  <p>Are there any really good tutorials explain...\n",
              "2             120  ...  <p>Has anyone got experience creating <strong>...\n",
              "3             180  ...  <p>This is something I've pseudo-solved many t...\n",
              "4             260  ...  <p>I have a little game written in C#. It uses...\n",
              "...           ...  ...                                                ...\n",
              "1264211  40143210  ...  <p>I am building a custom MVC project and I ha...\n",
              "1264212  40143300  ...  <p>The API docs show that you should be able t...\n",
              "1264213  40143340  ...  <p>Under minifyEnabled I changed from false to...\n",
              "1264214  40143360  ...  <p>I have input which I use to filter my array...\n",
              "1264215  40143380  ...  <p>I'm running a mocha test and I noticed my c...\n",
              "\n",
              "[1264216 rows x 7 columns]"
            ]
          },
          "metadata": {
            "tags": []
          },
          "execution_count": 37
        }
      ]
    },
    {
      "cell_type": "code",
      "metadata": {
        "colab": {
          "base_uri": "https://localhost:8080/",
          "height": 578
        },
        "id": "jSJBk-zLPPc3",
        "outputId": "56054a2b-39bb-4bab-fc1e-ac1abfd9c9bd"
      },
      "source": [
        "df_tags.info()\n",
        "df_tags"
      ],
      "execution_count": 38,
      "outputs": [
        {
          "output_type": "stream",
          "text": [
            "<class 'pandas.core.frame.DataFrame'>\n",
            "RangeIndex: 3750994 entries, 0 to 3750993\n",
            "Data columns (total 2 columns):\n",
            " #   Column  Dtype \n",
            "---  ------  ----- \n",
            " 0   Id      int64 \n",
            " 1   Tag     object\n",
            "dtypes: int64(1), object(1)\n",
            "memory usage: 57.2+ MB\n"
          ],
          "name": "stdout"
        },
        {
          "output_type": "execute_result",
          "data": {
            "text/html": [
              "<div>\n",
              "<style scoped>\n",
              "    .dataframe tbody tr th:only-of-type {\n",
              "        vertical-align: middle;\n",
              "    }\n",
              "\n",
              "    .dataframe tbody tr th {\n",
              "        vertical-align: top;\n",
              "    }\n",
              "\n",
              "    .dataframe thead th {\n",
              "        text-align: right;\n",
              "    }\n",
              "</style>\n",
              "<table border=\"1\" class=\"dataframe\">\n",
              "  <thead>\n",
              "    <tr style=\"text-align: right;\">\n",
              "      <th></th>\n",
              "      <th>Id</th>\n",
              "      <th>Tag</th>\n",
              "    </tr>\n",
              "  </thead>\n",
              "  <tbody>\n",
              "    <tr>\n",
              "      <th>0</th>\n",
              "      <td>80</td>\n",
              "      <td>flex</td>\n",
              "    </tr>\n",
              "    <tr>\n",
              "      <th>1</th>\n",
              "      <td>80</td>\n",
              "      <td>actionscript-3</td>\n",
              "    </tr>\n",
              "    <tr>\n",
              "      <th>2</th>\n",
              "      <td>80</td>\n",
              "      <td>air</td>\n",
              "    </tr>\n",
              "    <tr>\n",
              "      <th>3</th>\n",
              "      <td>90</td>\n",
              "      <td>svn</td>\n",
              "    </tr>\n",
              "    <tr>\n",
              "      <th>4</th>\n",
              "      <td>90</td>\n",
              "      <td>tortoisesvn</td>\n",
              "    </tr>\n",
              "    <tr>\n",
              "      <th>...</th>\n",
              "      <td>...</td>\n",
              "      <td>...</td>\n",
              "    </tr>\n",
              "    <tr>\n",
              "      <th>3750989</th>\n",
              "      <td>40143360</td>\n",
              "      <td>javascript</td>\n",
              "    </tr>\n",
              "    <tr>\n",
              "      <th>3750990</th>\n",
              "      <td>40143360</td>\n",
              "      <td>vue.js</td>\n",
              "    </tr>\n",
              "    <tr>\n",
              "      <th>3750991</th>\n",
              "      <td>40143380</td>\n",
              "      <td>npm</td>\n",
              "    </tr>\n",
              "    <tr>\n",
              "      <th>3750992</th>\n",
              "      <td>40143380</td>\n",
              "      <td>mocha</td>\n",
              "    </tr>\n",
              "    <tr>\n",
              "      <th>3750993</th>\n",
              "      <td>40143380</td>\n",
              "      <td>babel</td>\n",
              "    </tr>\n",
              "  </tbody>\n",
              "</table>\n",
              "<p>3750994 rows × 2 columns</p>\n",
              "</div>"
            ],
            "text/plain": [
              "               Id             Tag\n",
              "0              80            flex\n",
              "1              80  actionscript-3\n",
              "2              80             air\n",
              "3              90             svn\n",
              "4              90     tortoisesvn\n",
              "...           ...             ...\n",
              "3750989  40143360      javascript\n",
              "3750990  40143360          vue.js\n",
              "3750991  40143380             npm\n",
              "3750992  40143380           mocha\n",
              "3750993  40143380           babel\n",
              "\n",
              "[3750994 rows x 2 columns]"
            ]
          },
          "metadata": {
            "tags": []
          },
          "execution_count": 38
        }
      ]
    },
    {
      "cell_type": "code",
      "metadata": {
        "id": "JllSMQNKRY9_"
      },
      "source": [
        "# Combining all tags with same id under a single id\n",
        "df_tags['Tag'] = df_tags['Tag'].astype(str)\n",
        "group = df_tags.groupby(\"Id\")['Tag'].apply(lambda tags: ' '.join(tags))"
      ],
      "execution_count": 39,
      "outputs": []
    },
    {
      "cell_type": "code",
      "metadata": {
        "colab": {
          "base_uri": "https://localhost:8080/",
          "height": 418
        },
        "id": "QcYPee3WT7cf",
        "outputId": "0401406e-5000-41e0-d36b-04b25b313ba8"
      },
      "source": [
        "# Reset index of new group\n",
        "group.reset_index()\n"
      ],
      "execution_count": 40,
      "outputs": [
        {
          "output_type": "execute_result",
          "data": {
            "text/html": [
              "<div>\n",
              "<style scoped>\n",
              "    .dataframe tbody tr th:only-of-type {\n",
              "        vertical-align: middle;\n",
              "    }\n",
              "\n",
              "    .dataframe tbody tr th {\n",
              "        vertical-align: top;\n",
              "    }\n",
              "\n",
              "    .dataframe thead th {\n",
              "        text-align: right;\n",
              "    }\n",
              "</style>\n",
              "<table border=\"1\" class=\"dataframe\">\n",
              "  <thead>\n",
              "    <tr style=\"text-align: right;\">\n",
              "      <th></th>\n",
              "      <th>Id</th>\n",
              "      <th>Tag</th>\n",
              "    </tr>\n",
              "  </thead>\n",
              "  <tbody>\n",
              "    <tr>\n",
              "      <th>0</th>\n",
              "      <td>80</td>\n",
              "      <td>flex actionscript-3 air</td>\n",
              "    </tr>\n",
              "    <tr>\n",
              "      <th>1</th>\n",
              "      <td>90</td>\n",
              "      <td>svn tortoisesvn branch branching-and-merging</td>\n",
              "    </tr>\n",
              "    <tr>\n",
              "      <th>2</th>\n",
              "      <td>120</td>\n",
              "      <td>sql asp.net sitemap</td>\n",
              "    </tr>\n",
              "    <tr>\n",
              "      <th>3</th>\n",
              "      <td>180</td>\n",
              "      <td>algorithm language-agnostic colors color-space</td>\n",
              "    </tr>\n",
              "    <tr>\n",
              "      <th>4</th>\n",
              "      <td>260</td>\n",
              "      <td>c# .net scripting compiler-construction</td>\n",
              "    </tr>\n",
              "    <tr>\n",
              "      <th>...</th>\n",
              "      <td>...</td>\n",
              "      <td>...</td>\n",
              "    </tr>\n",
              "    <tr>\n",
              "      <th>1264211</th>\n",
              "      <td>40143210</td>\n",
              "      <td>php .htaccess</td>\n",
              "    </tr>\n",
              "    <tr>\n",
              "      <th>1264212</th>\n",
              "      <td>40143300</td>\n",
              "      <td>google-bigquery</td>\n",
              "    </tr>\n",
              "    <tr>\n",
              "      <th>1264213</th>\n",
              "      <td>40143340</td>\n",
              "      <td>android android-studio</td>\n",
              "    </tr>\n",
              "    <tr>\n",
              "      <th>1264214</th>\n",
              "      <td>40143360</td>\n",
              "      <td>javascript vue.js</td>\n",
              "    </tr>\n",
              "    <tr>\n",
              "      <th>1264215</th>\n",
              "      <td>40143380</td>\n",
              "      <td>npm mocha babel</td>\n",
              "    </tr>\n",
              "  </tbody>\n",
              "</table>\n",
              "<p>1264216 rows × 2 columns</p>\n",
              "</div>"
            ],
            "text/plain": [
              "               Id                                             Tag\n",
              "0              80                         flex actionscript-3 air\n",
              "1              90    svn tortoisesvn branch branching-and-merging\n",
              "2             120                             sql asp.net sitemap\n",
              "3             180  algorithm language-agnostic colors color-space\n",
              "4             260         c# .net scripting compiler-construction\n",
              "...           ...                                             ...\n",
              "1264211  40143210                                   php .htaccess\n",
              "1264212  40143300                                 google-bigquery\n",
              "1264213  40143340                          android android-studio\n",
              "1264214  40143360                               javascript vue.js\n",
              "1264215  40143380                                 npm mocha babel\n",
              "\n",
              "[1264216 rows x 2 columns]"
            ]
          },
          "metadata": {
            "tags": []
          },
          "execution_count": 40
        }
      ]
    },
    {
      "cell_type": "code",
      "metadata": {
        "colab": {
          "base_uri": "https://localhost:8080/",
          "height": 418
        },
        "id": "7B8yIdlKXcox",
        "outputId": "2611fafa-6593-4851-edc4-ab0de02e3622"
      },
      "source": [
        "# Creating new tags dataframe\n",
        "df_new_tags = pd.DataFrame({'Id' : group.index, 'Tag' : group.values })\n",
        "df_new_tags"
      ],
      "execution_count": 41,
      "outputs": [
        {
          "output_type": "execute_result",
          "data": {
            "text/html": [
              "<div>\n",
              "<style scoped>\n",
              "    .dataframe tbody tr th:only-of-type {\n",
              "        vertical-align: middle;\n",
              "    }\n",
              "\n",
              "    .dataframe tbody tr th {\n",
              "        vertical-align: top;\n",
              "    }\n",
              "\n",
              "    .dataframe thead th {\n",
              "        text-align: right;\n",
              "    }\n",
              "</style>\n",
              "<table border=\"1\" class=\"dataframe\">\n",
              "  <thead>\n",
              "    <tr style=\"text-align: right;\">\n",
              "      <th></th>\n",
              "      <th>Id</th>\n",
              "      <th>Tag</th>\n",
              "    </tr>\n",
              "  </thead>\n",
              "  <tbody>\n",
              "    <tr>\n",
              "      <th>0</th>\n",
              "      <td>80</td>\n",
              "      <td>flex actionscript-3 air</td>\n",
              "    </tr>\n",
              "    <tr>\n",
              "      <th>1</th>\n",
              "      <td>90</td>\n",
              "      <td>svn tortoisesvn branch branching-and-merging</td>\n",
              "    </tr>\n",
              "    <tr>\n",
              "      <th>2</th>\n",
              "      <td>120</td>\n",
              "      <td>sql asp.net sitemap</td>\n",
              "    </tr>\n",
              "    <tr>\n",
              "      <th>3</th>\n",
              "      <td>180</td>\n",
              "      <td>algorithm language-agnostic colors color-space</td>\n",
              "    </tr>\n",
              "    <tr>\n",
              "      <th>4</th>\n",
              "      <td>260</td>\n",
              "      <td>c# .net scripting compiler-construction</td>\n",
              "    </tr>\n",
              "    <tr>\n",
              "      <th>...</th>\n",
              "      <td>...</td>\n",
              "      <td>...</td>\n",
              "    </tr>\n",
              "    <tr>\n",
              "      <th>1264211</th>\n",
              "      <td>40143210</td>\n",
              "      <td>php .htaccess</td>\n",
              "    </tr>\n",
              "    <tr>\n",
              "      <th>1264212</th>\n",
              "      <td>40143300</td>\n",
              "      <td>google-bigquery</td>\n",
              "    </tr>\n",
              "    <tr>\n",
              "      <th>1264213</th>\n",
              "      <td>40143340</td>\n",
              "      <td>android android-studio</td>\n",
              "    </tr>\n",
              "    <tr>\n",
              "      <th>1264214</th>\n",
              "      <td>40143360</td>\n",
              "      <td>javascript vue.js</td>\n",
              "    </tr>\n",
              "    <tr>\n",
              "      <th>1264215</th>\n",
              "      <td>40143380</td>\n",
              "      <td>npm mocha babel</td>\n",
              "    </tr>\n",
              "  </tbody>\n",
              "</table>\n",
              "<p>1264216 rows × 2 columns</p>\n",
              "</div>"
            ],
            "text/plain": [
              "               Id                                             Tag\n",
              "0              80                         flex actionscript-3 air\n",
              "1              90    svn tortoisesvn branch branching-and-merging\n",
              "2             120                             sql asp.net sitemap\n",
              "3             180  algorithm language-agnostic colors color-space\n",
              "4             260         c# .net scripting compiler-construction\n",
              "...           ...                                             ...\n",
              "1264211  40143210                                   php .htaccess\n",
              "1264212  40143300                                 google-bigquery\n",
              "1264213  40143340                          android android-studio\n",
              "1264214  40143360                               javascript vue.js\n",
              "1264215  40143380                                 npm mocha babel\n",
              "\n",
              "[1264216 rows x 2 columns]"
            ]
          },
          "metadata": {
            "tags": []
          },
          "execution_count": 41
        }
      ]
    },
    {
      "cell_type": "code",
      "metadata": {
        "colab": {
          "base_uri": "https://localhost:8080/",
          "height": 204
        },
        "id": "zClT2k7PYJyX",
        "outputId": "0dfcf36d-ebb3-4493-b9ae-5f6dc799d6a9"
      },
      "source": [
        "# Droping unimportant coloumns from df_ques\n",
        "df_ques.drop(columns=['OwnerUserId', 'CreationDate', 'ClosedDate'], inplace=True)\n",
        "df_ques.head()"
      ],
      "execution_count": 42,
      "outputs": [
        {
          "output_type": "execute_result",
          "data": {
            "text/html": [
              "<div>\n",
              "<style scoped>\n",
              "    .dataframe tbody tr th:only-of-type {\n",
              "        vertical-align: middle;\n",
              "    }\n",
              "\n",
              "    .dataframe tbody tr th {\n",
              "        vertical-align: top;\n",
              "    }\n",
              "\n",
              "    .dataframe thead th {\n",
              "        text-align: right;\n",
              "    }\n",
              "</style>\n",
              "<table border=\"1\" class=\"dataframe\">\n",
              "  <thead>\n",
              "    <tr style=\"text-align: right;\">\n",
              "      <th></th>\n",
              "      <th>Id</th>\n",
              "      <th>Score</th>\n",
              "      <th>Title</th>\n",
              "      <th>Body</th>\n",
              "    </tr>\n",
              "  </thead>\n",
              "  <tbody>\n",
              "    <tr>\n",
              "      <th>0</th>\n",
              "      <td>80</td>\n",
              "      <td>26</td>\n",
              "      <td>SQLStatement.execute() - multiple queries in o...</td>\n",
              "      <td>&lt;p&gt;I've written a database generation script i...</td>\n",
              "    </tr>\n",
              "    <tr>\n",
              "      <th>1</th>\n",
              "      <td>90</td>\n",
              "      <td>144</td>\n",
              "      <td>Good branching and merging tutorials for Torto...</td>\n",
              "      <td>&lt;p&gt;Are there any really good tutorials explain...</td>\n",
              "    </tr>\n",
              "    <tr>\n",
              "      <th>2</th>\n",
              "      <td>120</td>\n",
              "      <td>21</td>\n",
              "      <td>ASP.NET Site Maps</td>\n",
              "      <td>&lt;p&gt;Has anyone got experience creating &lt;strong&gt;...</td>\n",
              "    </tr>\n",
              "    <tr>\n",
              "      <th>3</th>\n",
              "      <td>180</td>\n",
              "      <td>53</td>\n",
              "      <td>Function for creating color wheels</td>\n",
              "      <td>&lt;p&gt;This is something I've pseudo-solved many t...</td>\n",
              "    </tr>\n",
              "    <tr>\n",
              "      <th>4</th>\n",
              "      <td>260</td>\n",
              "      <td>49</td>\n",
              "      <td>Adding scripting functionality to .NET applica...</td>\n",
              "      <td>&lt;p&gt;I have a little game written in C#. It uses...</td>\n",
              "    </tr>\n",
              "  </tbody>\n",
              "</table>\n",
              "</div>"
            ],
            "text/plain": [
              "    Id  ...                                               Body\n",
              "0   80  ...  <p>I've written a database generation script i...\n",
              "1   90  ...  <p>Are there any really good tutorials explain...\n",
              "2  120  ...  <p>Has anyone got experience creating <strong>...\n",
              "3  180  ...  <p>This is something I've pseudo-solved many t...\n",
              "4  260  ...  <p>I have a little game written in C#. It uses...\n",
              "\n",
              "[5 rows x 4 columns]"
            ]
          },
          "metadata": {
            "tags": []
          },
          "execution_count": 42
        }
      ]
    },
    {
      "cell_type": "code",
      "metadata": {
        "colab": {
          "base_uri": "https://localhost:8080/"
        },
        "id": "EfbgPv5IFx1H",
        "outputId": "8e88ad99-9fe4-4b52-e46b-d6c64af250a3"
      },
      "source": [
        "# Considering only questions which are having socre greater then 5\n",
        "df = df_ques[df_ques['Score']>5]\n",
        "df.info()"
      ],
      "execution_count": 43,
      "outputs": [
        {
          "output_type": "stream",
          "text": [
            "<class 'pandas.core.frame.DataFrame'>\n",
            "Int64Index: 72950 entries, 0 to 1264205\n",
            "Data columns (total 4 columns):\n",
            " #   Column  Non-Null Count  Dtype \n",
            "---  ------  --------------  ----- \n",
            " 0   Id      72950 non-null  int64 \n",
            " 1   Score   72950 non-null  int64 \n",
            " 2   Title   72950 non-null  object\n",
            " 3   Body    72950 non-null  object\n",
            "dtypes: int64(2), object(2)\n",
            "memory usage: 2.8+ MB\n"
          ],
          "name": "stdout"
        }
      ]
    },
    {
      "cell_type": "code",
      "metadata": {
        "id": "gBCkT-8YYqjb"
      },
      "source": [
        "# Merging tags and questions in a single dataframe\n",
        "df_main = df.merge(df_new_tags , on=\"Id\")"
      ],
      "execution_count": 44,
      "outputs": []
    },
    {
      "cell_type": "code",
      "metadata": {
        "colab": {
          "base_uri": "https://localhost:8080/"
        },
        "id": "AwR2lFvPZbGA",
        "outputId": "e2039e6c-aee1-4d93-b976-f8353c2fe7f8"
      },
      "source": [
        "# Counting nan values\n",
        "df_main.isnull().sum(axis = 0)"
      ],
      "execution_count": 45,
      "outputs": [
        {
          "output_type": "execute_result",
          "data": {
            "text/plain": [
              "Id       0\n",
              "Score    0\n",
              "Title    0\n",
              "Body     0\n",
              "Tag      0\n",
              "dtype: int64"
            ]
          },
          "metadata": {
            "tags": []
          },
          "execution_count": 45
        }
      ]
    },
    {
      "cell_type": "code",
      "metadata": {
        "colab": {
          "base_uri": "https://localhost:8080/"
        },
        "id": "1hcBi6TvaMUh",
        "outputId": "f0dbccca-792a-42e5-b045-a371aefdc839"
      },
      "source": [
        "# Counting Duplicate Values\n",
        "df_main.duplicated().sum(axis = 0)"
      ],
      "execution_count": 46,
      "outputs": [
        {
          "output_type": "execute_result",
          "data": {
            "text/plain": [
              "0"
            ]
          },
          "metadata": {
            "tags": []
          },
          "execution_count": 46
        }
      ]
    },
    {
      "cell_type": "code",
      "metadata": {
        "colab": {
          "base_uri": "https://localhost:8080/"
        },
        "id": "ejZXoN51agIZ",
        "outputId": "147765e8-844e-471b-f73f-5fa67dd787dc"
      },
      "source": [
        "# Total Unique Tags \n",
        "df_main['Tag'] = df_main['Tag'].apply(lambda tags : tags.split())\n",
        "tags = [];\n",
        "for tags_list in df_main['Tag']:\n",
        "  for tag in tags_list:\n",
        "    tags.append(tag)\n",
        "\n",
        "tags_set = set(tags)\n",
        "unique_tags = list(tags_set)\n",
        "len(unique_tags)\n"
      ],
      "execution_count": 47,
      "outputs": [
        {
          "output_type": "execute_result",
          "data": {
            "text/plain": [
              "14883"
            ]
          },
          "metadata": {
            "tags": []
          },
          "execution_count": 47
        }
      ]
    },
    {
      "cell_type": "code",
      "metadata": {
        "colab": {
          "base_uri": "https://localhost:8080/",
          "height": 418
        },
        "id": "9JuDnAYpcv_R",
        "outputId": "b10b26c8-ffda-44bd-ce9d-b57400ec8175"
      },
      "source": [
        "# Droping unimportant coloumns from df_main\n",
        "df_main.drop(columns=['Id', 'Score'], inplace=True)\n",
        "df_main"
      ],
      "execution_count": 48,
      "outputs": [
        {
          "output_type": "execute_result",
          "data": {
            "text/html": [
              "<div>\n",
              "<style scoped>\n",
              "    .dataframe tbody tr th:only-of-type {\n",
              "        vertical-align: middle;\n",
              "    }\n",
              "\n",
              "    .dataframe tbody tr th {\n",
              "        vertical-align: top;\n",
              "    }\n",
              "\n",
              "    .dataframe thead th {\n",
              "        text-align: right;\n",
              "    }\n",
              "</style>\n",
              "<table border=\"1\" class=\"dataframe\">\n",
              "  <thead>\n",
              "    <tr style=\"text-align: right;\">\n",
              "      <th></th>\n",
              "      <th>Title</th>\n",
              "      <th>Body</th>\n",
              "      <th>Tag</th>\n",
              "    </tr>\n",
              "  </thead>\n",
              "  <tbody>\n",
              "    <tr>\n",
              "      <th>0</th>\n",
              "      <td>SQLStatement.execute() - multiple queries in o...</td>\n",
              "      <td>&lt;p&gt;I've written a database generation script i...</td>\n",
              "      <td>[flex, actionscript-3, air]</td>\n",
              "    </tr>\n",
              "    <tr>\n",
              "      <th>1</th>\n",
              "      <td>Good branching and merging tutorials for Torto...</td>\n",
              "      <td>&lt;p&gt;Are there any really good tutorials explain...</td>\n",
              "      <td>[svn, tortoisesvn, branch, branching-and-merging]</td>\n",
              "    </tr>\n",
              "    <tr>\n",
              "      <th>2</th>\n",
              "      <td>ASP.NET Site Maps</td>\n",
              "      <td>&lt;p&gt;Has anyone got experience creating &lt;strong&gt;...</td>\n",
              "      <td>[sql, asp.net, sitemap]</td>\n",
              "    </tr>\n",
              "    <tr>\n",
              "      <th>3</th>\n",
              "      <td>Function for creating color wheels</td>\n",
              "      <td>&lt;p&gt;This is something I've pseudo-solved many t...</td>\n",
              "      <td>[algorithm, language-agnostic, colors, color-s...</td>\n",
              "    </tr>\n",
              "    <tr>\n",
              "      <th>4</th>\n",
              "      <td>Adding scripting functionality to .NET applica...</td>\n",
              "      <td>&lt;p&gt;I have a little game written in C#. It uses...</td>\n",
              "      <td>[c#, .net, scripting, compiler-construction]</td>\n",
              "    </tr>\n",
              "    <tr>\n",
              "      <th>...</th>\n",
              "      <td>...</td>\n",
              "      <td>...</td>\n",
              "      <td>...</td>\n",
              "    </tr>\n",
              "    <tr>\n",
              "      <th>72945</th>\n",
              "      <td>How to use a dict to subset a DataFrame?</td>\n",
              "      <td>&lt;p&gt;Say, I have given a DataFrame with most of ...</td>\n",
              "      <td>[python, pandas, dataframe, categorical-data]</td>\n",
              "    </tr>\n",
              "    <tr>\n",
              "      <th>72946</th>\n",
              "      <td>Is there a way to use itertools in python to c...</td>\n",
              "      <td>&lt;p&gt;Let's say I have the following code:&lt;/p&gt;\\n\\...</td>\n",
              "      <td>[python, iterator, nested-loops, itertools]</td>\n",
              "    </tr>\n",
              "    <tr>\n",
              "      <th>72947</th>\n",
              "      <td>How can I force file ordering in F# projects u...</td>\n",
              "      <td>&lt;p&gt;I'm trying to work with vscode in my WebSha...</td>\n",
              "      <td>[f#, vscode]</td>\n",
              "    </tr>\n",
              "    <tr>\n",
              "      <th>72948</th>\n",
              "      <td>Why does my result data returned as void* gets...</td>\n",
              "      <td>&lt;p&gt;I am working in a project with a huge legac...</td>\n",
              "      <td>[c++]</td>\n",
              "    </tr>\n",
              "    <tr>\n",
              "      <th>72949</th>\n",
              "      <td>What exactly makes a type system consistent?</td>\n",
              "      <td>&lt;p&gt;I've taken AndrÃ¡s KovÃ¡cs's &lt;a href=\"https...</td>\n",
              "      <td>[haskell, types, functional-programming, agda,...</td>\n",
              "    </tr>\n",
              "  </tbody>\n",
              "</table>\n",
              "<p>72950 rows × 3 columns</p>\n",
              "</div>"
            ],
            "text/plain": [
              "                                                   Title  ...                                                Tag\n",
              "0      SQLStatement.execute() - multiple queries in o...  ...                        [flex, actionscript-3, air]\n",
              "1      Good branching and merging tutorials for Torto...  ...  [svn, tortoisesvn, branch, branching-and-merging]\n",
              "2                                      ASP.NET Site Maps  ...                            [sql, asp.net, sitemap]\n",
              "3                     Function for creating color wheels  ...  [algorithm, language-agnostic, colors, color-s...\n",
              "4      Adding scripting functionality to .NET applica...  ...       [c#, .net, scripting, compiler-construction]\n",
              "...                                                  ...  ...                                                ...\n",
              "72945           How to use a dict to subset a DataFrame?  ...      [python, pandas, dataframe, categorical-data]\n",
              "72946  Is there a way to use itertools in python to c...  ...        [python, iterator, nested-loops, itertools]\n",
              "72947  How can I force file ordering in F# projects u...  ...                                       [f#, vscode]\n",
              "72948  Why does my result data returned as void* gets...  ...                                              [c++]\n",
              "72949       What exactly makes a type system consistent?  ...  [haskell, types, functional-programming, agda,...\n",
              "\n",
              "[72950 rows x 3 columns]"
            ]
          },
          "metadata": {
            "tags": []
          },
          "execution_count": 48
        }
      ]
    },
    {
      "cell_type": "code",
      "metadata": {
        "colab": {
          "base_uri": "https://localhost:8080/"
        },
        "id": "asBm2AMhVhFy",
        "outputId": "e4bdcb33-25e1-478c-8396-50c1ff8b5e38"
      },
      "source": [
        "# Frequent Tags\n",
        "\n",
        "keywords = nltk.FreqDist(tags)\n",
        "frequencies_words = keywords.most_common(80)\n",
        "tags_features = [word[0] for word in frequencies_words]\n",
        "tags_features"
      ],
      "execution_count": 75,
      "outputs": [
        {
          "output_type": "execute_result",
          "data": {
            "text/plain": [
              "['c#',\n",
              " 'java',\n",
              " 'javascript',\n",
              " 'android',\n",
              " 'python',\n",
              " 'c++',\n",
              " 'php',\n",
              " 'jquery',\n",
              " '.net',\n",
              " 'ios',\n",
              " 'html',\n",
              " 'css',\n",
              " 'c',\n",
              " 'iphone',\n",
              " 'objective-c',\n",
              " 'ruby-on-rails',\n",
              " 'sql',\n",
              " 'asp.net',\n",
              " 'mysql',\n",
              " 'ruby',\n",
              " 'r',\n",
              " 'git',\n",
              " 'asp.net-mvc',\n",
              " 'linux',\n",
              " 'sql-server',\n",
              " 'node.js',\n",
              " 'angularjs',\n",
              " 'django',\n",
              " 'performance',\n",
              " 'algorithm',\n",
              " 'string',\n",
              " 'xcode',\n",
              " 'arrays',\n",
              " 'wpf',\n",
              " 'eclipse',\n",
              " 'haskell',\n",
              " 'windows',\n",
              " 'scala',\n",
              " 'multithreading',\n",
              " 'json',\n",
              " 'c++11',\n",
              " 'regex',\n",
              " 'visual-studio',\n",
              " 'html5',\n",
              " 'osx',\n",
              " 'swift',\n",
              " 'database',\n",
              " 'unit-testing',\n",
              " 'spring',\n",
              " 'xml',\n",
              " 'bash',\n",
              " 'ajax',\n",
              " 'delphi',\n",
              " 'cocoa-touch',\n",
              " 'ruby-on-rails-3',\n",
              " 'visual-studio-2010',\n",
              " 'linq',\n",
              " 'debugging',\n",
              " 'generics',\n",
              " 'perl',\n",
              " 'entity-framework',\n",
              " 'mongodb',\n",
              " 'winforms',\n",
              " 'cocoa',\n",
              " 'security',\n",
              " 'postgresql',\n",
              " 'css3',\n",
              " 'templates',\n",
              " 'twitter-bootstrap',\n",
              " 'shell',\n",
              " 'list',\n",
              " 'google-chrome',\n",
              " 'vim',\n",
              " 'oop',\n",
              " 'image',\n",
              " 'hibernate',\n",
              " 'gcc',\n",
              " 'asp.net-mvc-3',\n",
              " 'facebook',\n",
              " 'oracle']"
            ]
          },
          "metadata": {
            "tags": []
          },
          "execution_count": 75
        }
      ]
    },
    {
      "cell_type": "code",
      "metadata": {
        "colab": {
          "base_uri": "https://localhost:8080/",
          "height": 568
        },
        "id": "wYUW0WHaW4yi",
        "outputId": "f35a4665-36f2-4109-d113-171fb75d2b07"
      },
      "source": [
        "# Top 200 Frequent words visualisatiobn\n",
        "fig, ax = plt.subplots(figsize=(35, 10))\n",
        "keywords.plot(200, cumulative=False)"
      ],
      "execution_count": 76,
      "outputs": [
        {
          "output_type": "display_data",
          "data": {
            "image/png": "[encoded data removed]",
            "text/plain": [
              "<Figure size 2520x720 with 1 Axes>"
            ]
          },
          "metadata": {
            "tags": [],
            "needs_background": "light"
          }
        }
      ]
    },
    {
      "cell_type": "code",
      "metadata": {
        "id": "V4J8Ns9DO8mX"
      },
      "source": [
        "# Defining all Utilities Functions Here\n",
        "\n",
        "# This functions will seperate tags which are among top 1000 frequent tags evaluated above (tags_features)\n",
        "def MostCommonTags(tags_list):\n",
        "  tag_filtered = []\n",
        "  for x in tags_list:\n",
        "    if x in tags_features:\n",
        "      tag_filtered.append(x)\n",
        "  return tag_filtered\n",
        "\n",
        "# This funciton will clean the body coloumn text\n",
        "def CleanBody(text):\n",
        "  text = text.lower()\n",
        "  text = re.sub(r\"what's\", \"what is \", text)\n",
        "  text = re.sub(r\"\\'s\", \" \", text)\n",
        "  text = re.sub(r\"\\'ve\", \" have \", text)\n",
        "  text = re.sub(r\"can't\", \"can not \", text)\n",
        "  text = re.sub(r\"n't\", \" not \", text)\n",
        "  text = re.sub(r\"i'm\", \"i am \", text)\n",
        "  text = re.sub(r\"\\'re\", \" are \", text)\n",
        "  text = re.sub(r\"\\'d\", \" would \", text)\n",
        "  text = re.sub(r\"\\'ll\", \" will \", text)\n",
        "  text = re.sub(r\"\\'scuse\", \" excuse \", text)\n",
        "  text = re.sub(r\"\\'\\n\", \" \", text)\n",
        "  text = re.sub(r\"\\'\\xa0\", \" \", text)\n",
        "  text = re.sub('\\s+', ' ', text)\n",
        "  text = text.strip(' ')\n",
        "  return text\n",
        "\n",
        "lemma=WordNetLemmatizer()\n",
        "\n",
        "# This function will help in lemitizing of text\n",
        "def lemitizeWords(text):\n",
        "    words = text.split(\" \")\n",
        "    listLemma = []\n",
        "    for w in words:\n",
        "        x = lemma.lemmatize(w, pos=\"v\")\n",
        "        listLemma.append(x)\n",
        "    return ' '.join(map(str, listLemma))\n",
        "\n",
        "\n",
        "#This function will remove all stopwords from text\n",
        "def stopWordsRemove(text):\n",
        "    all_stopwords = stopwords.words(\"english\")\n",
        "    words=text.split(\" \")\n",
        "    filtered = [w for w in words if not w in set(all_stopwords)]\n",
        "    return ' '.join(map(str, filtered))\n",
        "\n",
        "# This function will check the Jacard score of our model ( Jacard score is best option for multiclass classification )\n",
        "def avg_jacard(y_true,y_pred):\n",
        "    jacard = np.minimum(y_true,y_pred).sum(axis=1) / np.maximum(y_true,y_pred).sum(axis=1)\n",
        "    return jacard.mean()*100\n",
        "\n",
        "# This function will print all the scores and details of model trained\n",
        "def print_score(y_test,y_pred, clf):\n",
        "    print(\"Clf: \", clf.__class__.__name__)\n",
        "    print(\"Jacard score: {}\".format(avg_jacard(y_test, y_pred)))\n",
        "    print(\"Hamming loss: {}\".format(hamming_loss(y_pred, y_test)*100))\n",
        "    print(\"---\")\n",
        "\n",
        "# Prediciting my own question\n",
        "def prediction(cf):\n",
        "  print(\"Predicting your question...\")\n",
        "  question = \"How to use ml in java and python, i have data but don't know how to use it for ml. i love machine learning as well as python and java. please help how to do ml in python and java\"\n",
        "  title = \"ml in python and java\"\n",
        "\n",
        "  ques_ = vectorizer_X1.transform([question])\n",
        "  title_ = vectorizer_X2.transform([title])\n",
        "\n",
        "  # input = sc.sparse.hstack([ques_,title_])\n",
        "\n",
        "  print(input)\n",
        "  multilabel_binarizer.inverse_transform(cf.predict(ques_))  \n",
        "  print(\"*******************\")"
      ],
      "execution_count": 107,
      "outputs": []
    },
    {
      "cell_type": "code",
      "metadata": {
        "id": "ZRK99PJDM68_"
      },
      "source": [
        "# Keeping only tags which are among top 2000\n",
        "df_main['Tag'] = df_main['Tag'].apply(lambda x : MostCommonTags(x))\n",
        "\n",
        "# Removing those rows which as tags list as empty list \n",
        "df_main['Tag'] = df_main['Tag'].apply(lambda x : x if len(x)>0 else None)"
      ],
      "execution_count": 78,
      "outputs": []
    },
    {
      "cell_type": "code",
      "metadata": {
        "colab": {
          "base_uri": "https://localhost:8080/"
        },
        "id": "6uF-TzMFPuHs",
        "outputId": "e054e0df-7230-4777-f057-775f16a445ab"
      },
      "source": [
        "# Droping nan \n",
        "df_main.dropna(subset=['Tag'], inplace=True)\n",
        "df_main.info()\n"
      ],
      "execution_count": 79,
      "outputs": [
        {
          "output_type": "stream",
          "text": [
            "<class 'pandas.core.frame.DataFrame'>\n",
            "Int64Index: 61920 entries, 2 to 72949\n",
            "Data columns (total 3 columns):\n",
            " #   Column  Non-Null Count  Dtype \n",
            "---  ------  --------------  ----- \n",
            " 0   Title   61920 non-null  object\n",
            " 1   Body    61920 non-null  object\n",
            " 2   Tag     61920 non-null  object\n",
            "dtypes: object(3)\n",
            "memory usage: 1.9+ MB\n"
          ],
          "name": "stdout"
        }
      ]
    },
    {
      "cell_type": "code",
      "metadata": {
        "id": "_uWXKXlhRCoC"
      },
      "source": [
        "# Converting html text present in body coloumn into text\n",
        "df_main['Body'] = df_main['Body'].apply(lambda x : BeautifulSoup(x).get_text())"
      ],
      "execution_count": 80,
      "outputs": []
    },
    {
      "cell_type": "code",
      "metadata": {
        "id": "mv8c6WwlGg2y"
      },
      "source": [
        "# Cleaning body text\n",
        "df_main['Body'] = df_main['Body'].apply(lambda x: CleanBody(x)) "
      ],
      "execution_count": 81,
      "outputs": []
    },
    {
      "cell_type": "code",
      "metadata": {
        "id": "XIkvNZNTJIiN"
      },
      "source": [
        "# Lemitization & Stopwords removal from body coloumn\n",
        "df_main['Body'] = df_main['Body'].apply(lambda x: lemitizeWords(x)) \n",
        "df_main['Body'] = df_main['Body'].apply(lambda x: stopWordsRemove(x)) "
      ],
      "execution_count": 82,
      "outputs": []
    },
    {
      "cell_type": "code",
      "metadata": {
        "id": "ARqf9rHNQirE"
      },
      "source": [
        "# Lemitization & Stopwords removal from title coloumn\n",
        "df_main['Title'] = df_main['Title'].apply(lambda x: str(x)) \n",
        "df_main['Title'] = df_main['Title'].apply(lambda x: CleanBody(x)) \n",
        "df_main['Title'] = df_main['Title'].apply(lambda x: lemitizeWords(x)) \n",
        "df_main['Title'] = df_main['Title'].apply(lambda x: stopWordsRemove(x)) "
      ],
      "execution_count": 83,
      "outputs": []
    },
    {
      "cell_type": "code",
      "metadata": {
        "id": "U-NDRrsjRUiO"
      },
      "source": [
        "# TFIDF Vectorization\n",
        "x1 = df_main['Body']\n",
        "x2 = df_main['Title']\n",
        "y = df_main['Tag']\n",
        "\n",
        "multilabel_binarizer = MultiLabelBinarizer()\n",
        "y_bin = multilabel_binarizer.fit_transform(y)\n",
        "\n",
        "\n",
        "vectorizer_X1 = TfidfVectorizer(analyzer = 'word',min_df=0.0,max_df = 1.0,strip_accents = None,encoding = 'utf-8', preprocessor=None,token_pattern=r\"(?u)\\S\\S+\",max_features=1000)\n",
        "vectorizer_X2 = TfidfVectorizer(analyzer = 'word',min_df=0.0,max_df = 1.0,strip_accents = None,encoding = 'utf-8', preprocessor=None,token_pattern=r\"(?u)\\S\\S+\",max_features=1000)\n",
        "\n",
        "X1_tfidf = vectorizer_X1.fit_transform(x1)\n",
        "X2_tfidf = vectorizer_X2.fit_transform(x2)\n",
        "\n",
        "X_tfidf = sc.sparse.hstack([X1_tfidf,X2_tfidf])\n"
      ],
      "execution_count": 84,
      "outputs": []
    },
    {
      "cell_type": "code",
      "metadata": {
        "id": "oO53t0OyVrD6"
      },
      "source": [
        "# Train Test Split\n",
        "from sklearn.model_selection import train_test_split\n",
        "x_train, x_test, y_train, y_test = train_test_split(X_tfidf, y_bin, test_size = 0.2, random_state = 0)"
      ],
      "execution_count": 85,
      "outputs": []
    },
    {
      "cell_type": "code",
      "metadata": {
        "id": "pQPwyJZSZKwS"
      },
      "source": [
        "# Trying these four models\n",
        "\n",
        "sgd = SGDClassifier()\n",
        "lr = LogisticRegression()\n",
        "mn = MultinomialNB()\n",
        "svc = LinearSVC()"
      ],
      "execution_count": 86,
      "outputs": []
    },
    {
      "cell_type": "code",
      "metadata": {
        "id": "pRyqHFg1VSRX"
      },
      "source": [
        "for classifier in [sgd, lr, mn, svc]:\n",
        "    clf = OneVsRestClassifier(classifier)\n",
        "    clf.fit(x_train, y_train)\n",
        "    y_pred = clf.predict(x_test)\n",
        "    print_score(y_test,y_pred,classifier)\n",
        "    \n"
      ],
      "execution_count": null,
      "outputs": []
    }
  ]
}